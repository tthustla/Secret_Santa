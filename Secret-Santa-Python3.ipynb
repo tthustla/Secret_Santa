{
 "cells": [
  {
   "cell_type": "code",
   "execution_count": 1,
   "metadata": {
    "collapsed": true
   },
   "outputs": [],
   "source": [
    "import copy\n",
    "import random\n",
    "import smtplib\n",
    "from email.mime.multipart import MIMEMultipart\n",
    "from email.mime.text import MIMEText\n",
    "from email.mime.base import MIMEBase\n",
    "from email import encoders\n",
    "\n",
    "names = ['Person A','Person B','Person C','Person D']\n",
    "emails = ['Person A email address','Person B email address','Person C email address','Person D email address']\n",
    "\n",
    "def secret_santa(names):\n",
    "    my_list = names\n",
    "    choose = copy.copy(my_list)\n",
    "    result = []\n",
    "    for i in my_list:\n",
    "        names = copy.copy(my_list)\n",
    "        names.pop(names.index(i))\n",
    "        chosen = random.choice(list(set(choose)&set(names)))\n",
    "        result.append((i,chosen))\n",
    "        choose.pop(choose.index(chosen))\n",
    "    return result"
   ]
  },
  {
   "cell_type": "code",
   "execution_count": null,
   "metadata": {},
   "outputs": [],
   "source": [
    "ss_result = secret_santa(names)\n",
    "final = zip(ss_result,emails)"
   ]
  },
  {
   "cell_type": "code",
   "execution_count": null,
   "metadata": {},
   "outputs": [],
   "source": [
    "for x in final:\n",
    "    fromaddr = \"your mail ID\"\n",
    "    toaddr = x[1]\n",
    "    msg = MIMEMultipart()\n",
    "    msg['From'] = fromaddr\n",
    "    msg['To'] = toaddr\n",
    "    msg['Subject'] = \"SECRET EMAIL FOR SECRET SANTA!\"\n",
    " \n",
    "    body1 = \"Hello, \"+str(x[0][0])\n",
    "    body2 = '''!\\n This is an automated email from Pranav Nayak's Secret Santa Python Program.\\n\\nYou drew\\n.......\\n........\\n........\\n'''+str(x[0][1])+\"!!\\n\\nRule Number 1: Please do not tell anyone!\\n\"\n",
    "    body3 = \"Rule Number 2: Don't cause a ruckus! \\nWhat are you waiting for? Go ahead and get something nice for \"+str(x[0][1])+\"!\\n\\n\\n\"\n",
    "    body = body1+body2+body3\n",
    "    msg.attach(MIMEText(body, 'plain'))\n",
    "\n",
    " server = smtplib.SMTP('smtp.gmail.com', 587)\n",
    "    server.starttls()\n",
    "    server.login(fromaddr, \"enter password\")\n",
    "    text = msg.as_string()\n",
    "    server.sendmail(fromaddr, toaddr, text)\n",
    "    server.quit()\n",
    "    print(\"mail sent to\",x[1])"
   ]
  },
  {
   "cell_type": "code",
   "execution_count": null,
   "metadata": {
    "collapsed": true
   },
   "outputs": [],
   "source": []
  }
 ],
 "metadata": {
  "kernelspec": {
   "display_name": "Python 2",
   "language": "python",
   "name": "python2"
  },
  "language_info": {
   "codemirror_mode": {
    "name": "ipython",
    "version": 2
   },
   "file_extension": ".py",
   "mimetype": "text/x-python",
   "name": "python",
   "nbconvert_exporter": "python",
   "pygments_lexer": "ipython2",
   "version": "2.7.13"
  }
 },
 "nbformat": 4,
 "nbformat_minor": 2
}
